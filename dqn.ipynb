{
 "cells": [
  {
   "cell_type": "code",
   "execution_count": 1,
   "metadata": {},
   "outputs": [],
   "source": [
    "import random\n",
    "import math\n",
    "from collections import defaultdict, namedtuple\n",
    "from itertools import count\n",
    "\n",
    "import numpy as np\n",
    "\n",
    "import torch\n",
    "import torch.nn as nn\n",
    "import torch.optim as optim\n",
    "import torch.nn.functional as F\n",
    "import torchvision.transforms as T\n",
    "\n",
    "torch.manual_seed(3001)\n",
    "\n",
    "from agent import *\n",
    "from game import *\n",
    "from trainer import *\n",
    "from utils import *\n",
    "\n",
    "device = torch.device(\"cuda\" if torch.cuda.is_available() else \"cpu\")"
   ]
  },
  {
   "cell_type": "code",
   "execution_count": 2,
   "metadata": {},
   "outputs": [],
   "source": [
    "class DQN(nn.Module):\n",
    "\n",
    "    def __init__(self, inp_size, emb_size, hid_size, out_size):\n",
    "        super(DQN, self).__init__()\n",
    "        self.emb = nn.Linear(inp_size, emb_size)\n",
    "        \n",
    "        self.mid = nn.Linear(emb_size, hid_size)\n",
    "        self.out = nn.Linear(hid_size, out_size)\n",
    "        \n",
    "    def forward(self, x):\n",
    "        emb = F.relu(self.emb(x))\n",
    "        out = F.relu(self.mid(emb))\n",
    "        \n",
    "        act = self.out(out)\n",
    "        return F.softmax(act, dim=-1)"
   ]
  },
  {
   "cell_type": "code",
   "execution_count": 3,
   "metadata": {},
   "outputs": [],
   "source": [
    "def stateMax(params):\n",
    "    return torch.tensor([params['idx']/params['n_idx'], params['val']/params['hi']]).unsqueeze(0)"
   ]
  },
  {
   "cell_type": "code",
   "execution_count": 4,
   "metadata": {},
   "outputs": [],
   "source": [
    "dqn_net_params = {'inp_size':2,\n",
    "                  'emb_size':100,\n",
    "                  'hid_size':256,\n",
    "                  'out_size':2\n",
    "                 }\n",
    "\n",
    "policy_net = DQN(inp_size=2, emb_size=100, hid_size=256, out_size=2).to(device)\n",
    "target_net = DQN(inp_size=2, emb_size=100, hid_size=256, out_size=2).to(device)\n",
    "target_net.load_state_dict(policy_net.state_dict())\n",
    "target_net.eval()\n",
    "\n",
    "memory = ReplayMemory(100_000)\n",
    "\n",
    "dqn_params = {'batch_size':128,\n",
    "              'gamma':0.9,\n",
    "              'eps':0.1,\n",
    "              'eps_decay':1e-5,\n",
    "              'target_update':1000,\n",
    "              'p_to_s':stateMax,\n",
    "              'p_net':policy_net,\n",
    "              't_net':target_net,\n",
    "              'optimizer':optim.RMSprop(policy_net.parameters()),\n",
    "              'loss':F.mse_loss,\n",
    "              'memory':memory\n",
    "              }\n",
    "\n",
    "agent = DQAgent(**dqn_params)"
   ]
  },
  {
   "cell_type": "code",
   "execution_count": 3,
   "metadata": {},
   "outputs": [
    {
     "data": {
      "text/plain": [
       "L1Loss()"
      ]
     },
     "execution_count": 3,
     "metadata": {},
     "output_type": "execute_result"
    }
   ],
   "source": [
    "nn.L1Loss()"
   ]
  },
  {
   "cell_type": "code",
   "execution_count": 5,
   "metadata": {},
   "outputs": [],
   "source": [
    "game_params = {'lo':1,\n",
    "               'hi':10000,\n",
    "               'n_idx':50,\n",
    "               'replace':False,\n",
    "               'reward_fn': rewardTopN,\n",
    "               'reward':{'n':11, 'pos':10, 'neg':-10}\n",
    "              }\n",
    "  \n",
    "game = Game(**game_params)"
   ]
  },
  {
   "cell_type": "code",
   "execution_count": 7,
   "metadata": {},
   "outputs": [
    {
     "name": "stdout",
     "output_type": "stream",
     "text": [
      "TRAINING COMPLETE |\t FINAL VICTORY PERCENTAGE: 0.03\n"
     ]
    },
    {
     "data": {
      "text/plain": [
       "0.03"
      ]
     },
     "execution_count": 7,
     "metadata": {},
     "output_type": "execute_result"
    }
   ],
   "source": [
    "curr_params = {\"epoch\":100, \n",
    "               'params':{\"pos\":0,\n",
    "                         \"neg\":0,\n",
    "                         \"op\":\"-\",\n",
    "                         \"n\":1\n",
    "                        }\n",
    "              }\n",
    "\n",
    "trainer = DQTrainer()\n",
    "trainer.train(game, agent, 1_000, 100, 0, curr_params)\n",
    "trainer.eval(game, agent, 100, 10, 0)"
   ]
  },
  {
   "cell_type": "code",
   "execution_count": 8,
   "metadata": {},
   "outputs": [
    {
     "name": "stdout",
     "output_type": "stream",
     "text": [
      "TRAINING COMPLETE |\t FINAL VICTORY PERCENTAGE: 0.14\n"
     ]
    },
    {
     "data": {
      "text/plain": [
       "0.14"
      ]
     },
     "execution_count": 8,
     "metadata": {},
     "output_type": "execute_result"
    }
   ],
   "source": []
  },
  {
   "cell_type": "code",
   "execution_count": 8,
   "metadata": {},
   "outputs": [
    {
     "data": {
      "text/plain": [
       "'Eval'"
      ]
     },
     "execution_count": 8,
     "metadata": {},
     "output_type": "execute_result"
    }
   ],
   "source": []
  },
  {
   "cell_type": "code",
   "execution_count": 21,
   "metadata": {},
   "outputs": [
    {
     "data": {
      "text/plain": [
       "167"
      ]
     },
     "execution_count": 21,
     "metadata": {},
     "output_type": "execute_result"
    }
   ],
   "source": []
  }
 ],
 "metadata": {
  "kernelspec": {
   "display_name": "Python 3",
   "language": "python",
   "name": "python3"
  },
  "language_info": {
   "codemirror_mode": {
    "name": "ipython",
    "version": 3
   },
   "file_extension": ".py",
   "mimetype": "text/x-python",
   "name": "python",
   "nbconvert_exporter": "python",
   "pygments_lexer": "ipython3",
   "version": "3.6.6"
  }
 },
 "nbformat": 4,
 "nbformat_minor": 2
}
