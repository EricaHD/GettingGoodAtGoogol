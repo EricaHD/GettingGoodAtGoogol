{
 "cells": [
  {
   "cell_type": "code",
   "execution_count": 1,
   "metadata": {},
   "outputs": [],
   "source": [
    "import random\n",
    "\n",
    "import numpy as np\n",
    "\n",
    "from game import Game\n",
    "from agent import QAgent, OptimalAgent\n",
    "from q_value_fn import qKeyMaxBin\n",
    "from plot_utils import setDefault, plotQValues\n",
    "\n",
    "import pickle as pkl\n",
    "\n",
    "import matplotlib.pyplot as plt\n",
    "%matplotlib inline\n",
    "\n",
    "setDefault(figsize=(20,10))"
   ]
  },
  {
   "cell_type": "code",
   "execution_count": 2,
   "metadata": {},
   "outputs": [],
   "source": [
    "reward_fn =lambda win: 10 if win else -1\n",
    "game = Game(lo=1, hi=100, n_states=25, replace=False, reward_fn=reward_fn)"
   ]
  },
  {
   "cell_type": "code",
   "execution_count": 4,
   "metadata": {},
   "outputs": [],
   "source": [
    "q_agent_params = {'alpha':0.0001,\n",
    "                  'gamma':0.95,\n",
    "                  'eps':0.1, \n",
    "                  'eps_decay':1e5, \n",
    "                  's_cost':0,\n",
    "                  'sarsa':False,\n",
    "                  'q_key_fn':lambda s, u, p, q: qKeyMaxBin(s, u, p, q, 2, 2),\n",
    "                  'q_key':\"0_0\"}"
   ]
  },
  {
   "cell_type": "code",
   "execution_count": 5,
   "metadata": {},
   "outputs": [
    {
     "name": "stderr",
     "output_type": "stream",
     "text": [
      "100%|██████████| 100/100 [00:00<00:00, 3467.80it/s]"
     ]
    },
    {
     "name": "stdout",
     "output_type": "stream",
     "text": [
      "0.03\n"
     ]
    },
    {
     "name": "stderr",
     "output_type": "stream",
     "text": [
      "\n"
     ]
    }
   ],
   "source": [
    "n_games = 100\n",
    "\n",
    "agent = QAgent(**q_agent_params)\n",
    "agent_wins, _, _ = game.autoTrain(agent, n_games, True, False)\n",
    "\n",
    "print(agent_wins/n_games)"
   ]
  },
  {
   "cell_type": "code",
   "execution_count": 6,
   "metadata": {},
   "outputs": [],
   "source": [
    "with open(\"agent_values/agent0.pkl\", 'wb') as file:\n",
    "    pkl.dump(dict(agent.Q), file)"
   ]
  },
  {
   "cell_type": "code",
   "execution_count": 7,
   "metadata": {},
   "outputs": [],
   "source": [
    "agent2 = QAgent(**q_agent_params)"
   ]
  },
  {
   "cell_type": "code",
   "execution_count": 9,
   "metadata": {},
   "outputs": [],
   "source": [
    "with open(\"agent_values/agent0.pkl\", 'rb') as file:\n",
    "    q_vals = pkl.load(file)\n",
    "    \n",
    "defaultdict(lambda: {0:0, 1:0}, q_vals)"
   ]
  }
 ],
 "metadata": {
  "kernelspec": {
   "display_name": "Python 3",
   "language": "python",
   "name": "python3"
  },
  "language_info": {
   "codemirror_mode": {
    "name": "ipython",
    "version": 3
   },
   "file_extension": ".py",
   "mimetype": "text/x-python",
   "name": "python",
   "nbconvert_exporter": "python",
   "pygments_lexer": "ipython3",
   "version": "3.6.5"
  }
 },
 "nbformat": 4,
 "nbformat_minor": 2
}
