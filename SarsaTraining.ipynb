{
 "cells": [
  {
   "cell_type": "code",
   "execution_count": 1,
   "metadata": {},
   "outputs": [],
   "source": [
    "import random\n",
    "\n",
    "import numpy as np\n",
    "\n",
    "from game import Game\n",
    "from agent import QAgent, OptimalAgent\n",
    "from plot_utils import setDefault, plotQValues\n",
    "\n",
    "import pickle as pkl\n",
    "\n",
    "import matplotlib.pyplot as plt\n",
    "%matplotlib inline\n",
    "\n",
    "setDefault(figsize=(20,10))"
   ]
  },
  {
   "cell_type": "code",
   "execution_count": 2,
   "metadata": {},
   "outputs": [],
   "source": [
    "reward_fn =lambda win: 10 if win else -1\n",
    "game = Game(lo=1, hi=100, n_states=25, replace=False, reward_fn=reward_fn)"
   ]
  },
  {
   "cell_type": "code",
   "execution_count": 8,
   "metadata": {},
   "outputs": [],
   "source": [
    "def qKeyMaxBin(s, update, params, q_key, s_d, v_d):\n",
    "    \n",
    "    s_key = int(np.round(s/params['n_states'], s_d)*100)\n",
    "    \n",
    "    if not update:\n",
    "        v = params['val']\n",
    "        \n",
    "        prev_v = int(q_key.split(\"_\")[1])\n",
    "        \n",
    "        if v > prev_v:\n",
    "            \n",
    "            v_key = int(np.round(v/params['max_val'], v_d)*100)\n",
    "            \n",
    "            return \"{}_{}\".format(s_key, v_key)\n",
    "        else:\n",
    "            return \"{}_{}\".format(s_key, prev_v)\n",
    "    else:\n",
    "        return \"{}_{}\".format(s_key, int(q_key.split(\"_\")[1]))"
   ]
  },
  {
   "cell_type": "code",
   "execution_count": 9,
   "metadata": {},
   "outputs": [],
   "source": [
    "q_agent_params = {'alpha':0.0001,\n",
    "                  'gamma':0.95,\n",
    "                  'eps':0.1, \n",
    "                  'eps_decay':1e5, \n",
    "                  's_cost':0,\n",
    "                  'sarsa':False,\n",
    "                  'q_key_fn':lambda s, u, p, q: qKeyMaxBin(s, u, p, q, 2, 2),\n",
    "                  'q_key':\"0_0\"}"
   ]
  },
  {
   "cell_type": "code",
   "execution_count": 10,
   "metadata": {},
   "outputs": [
    {
     "name": "stderr",
     "output_type": "stream",
     "text": [
      "100%|██████████| 100/100 [00:00<00:00, 2515.99it/s]\n"
     ]
    }
   ],
   "source": [
    "agent = QAgent(**q_agent_params)\n",
    "agent_wins, _, _ = game.autoTrain(agent, 100, True, False)"
   ]
  }
 ],
 "metadata": {
  "kernelspec": {
   "display_name": "Python 3",
   "language": "python",
   "name": "python3"
  },
  "language_info": {
   "codemirror_mode": {
    "name": "ipython",
    "version": 3
   },
   "file_extension": ".py",
   "mimetype": "text/x-python",
   "name": "python",
   "nbconvert_exporter": "python",
   "pygments_lexer": "ipython3",
   "version": "3.6.5"
  }
 },
 "nbformat": 4,
 "nbformat_minor": 2
}
