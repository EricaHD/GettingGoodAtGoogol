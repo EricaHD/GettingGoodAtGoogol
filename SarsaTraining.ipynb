{
 "cells": [
  {
   "cell_type": "code",
   "execution_count": 1,
   "metadata": {},
   "outputs": [],
   "source": [
    "from collections import defaultdict\n",
    "import random\n",
    "\n",
    "import numpy as np\n",
    "\n",
    "from GoogolGame import Game\n",
    "from Agent import SarsaAgent\n",
    "\n",
    "import matplotlib.pyplot as plt\n",
    "%matplotlib inline\n",
    "plt.style.use(['dark_background'])"
   ]
  },
  {
   "cell_type": "code",
   "execution_count": 2,
   "metadata": {},
   "outputs": [],
   "source": [
    "game = Game(lo=1, hi=1000, n_states=50, replace=False, reward=50)"
   ]
  },
  {
   "cell_type": "code",
   "execution_count": 5,
   "metadata": {},
   "outputs": [],
   "source": [
    "agent = SarsaAgent(alpha=0.01, gamma=0.6, eps=0.3, eps_decay=1e-5, s_cost=0)"
   ]
  },
  {
   "cell_type": "code",
   "execution_count": null,
   "metadata": {},
   "outputs": [],
   "source": [
    "for i in range(100000):\n",
    "    game.autoTrain(agent)\n",
    "    \n",
    "plt.figure(figsize=(20,12))\n",
    "\n",
    "plt.scatter(np.arange(len(agent.final_state)), agent.final_state)\n",
    "plt.ylabel(\"Final State\")\n",
    "plt.xlabel(\"Time\")\n",
    "plt.title(\"Final State vs Time\")"
   ]
  }
 ],
 "metadata": {
  "kernelspec": {
   "display_name": "Python 3",
   "language": "python",
   "name": "python3"
  },
  "language_info": {
   "codemirror_mode": {
    "name": "ipython",
    "version": 3
   },
   "file_extension": ".py",
   "mimetype": "text/x-python",
   "name": "python",
   "nbconvert_exporter": "python",
   "pygments_lexer": "ipython3",
   "version": "3.6.5"
  }
 },
 "nbformat": 4,
 "nbformat_minor": 2
}
