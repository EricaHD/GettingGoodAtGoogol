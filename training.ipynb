{
 "cells": [
  {
   "cell_type": "code",
   "execution_count": 1,
   "metadata": {},
   "outputs": [],
   "source": [
    "import random\n",
    "from collections import defaultdict\n",
    "\n",
    "import numpy as np\n",
    "\n",
    "from trainer import *\n",
    "from game import Game\n",
    "from agent import *\n",
    "from utils import *\n",
    "from plot_utils import setDefault, plotQValues\n",
    "\n",
    "import matplotlib.pyplot as plt\n",
    "%matplotlib inline\n",
    "\n",
    "setDefault(figsize=(20,10))"
   ]
  },
  {
   "cell_type": "code",
   "execution_count": 10,
   "metadata": {},
   "outputs": [],
   "source": [
    "game_params = {'lo':1, \n",
    "               'hi':25,\n",
    "               'n_idx':20,\n",
    "               'replace':False,\n",
    "               'reward_fn': rewardTopN,\n",
    "               'reward_params':{'n':10, 'pos_reward':10, 'neg_reward':-10}\n",
    "              }\n",
    "\n",
    "game = Game(**game_params)"
   ]
  },
  {
   "cell_type": "code",
   "execution_count": 45,
   "metadata": {},
   "outputs": [],
   "source": [
    "a, b, c, d = eval(str((0, 0, 10, '-')))"
   ]
  },
  {
   "cell_type": "code",
   "execution_count": 4,
   "metadata": {},
   "outputs": [
    {
     "data": {
      "text/plain": [
       "(5, 10, 'minus')"
      ]
     },
     "execution_count": 4,
     "metadata": {},
     "output_type": "execute_result"
    }
   ],
   "source": [
    "eval(str((5,10, 'minus')))"
   ]
  },
  {
   "cell_type": "code",
   "execution_count": null,
   "metadata": {},
   "outputs": [],
   "source": []
  },
  {
   "cell_type": "code",
   "execution_count": 41,
   "metadata": {},
   "outputs": [
    {
     "data": {
      "text/plain": [
       "8"
      ]
     },
     "execution_count": 41,
     "metadata": {},
     "output_type": "execute_result"
    }
   ],
   "source": [
    "eval(\"5 {} 3\".format(a))"
   ]
  },
  {
   "cell_type": "code",
   "execution_count": 33,
   "metadata": {},
   "outputs": [
    {
     "data": {
      "text/plain": [
       "1"
      ]
     },
     "execution_count": 33,
     "metadata": {},
     "output_type": "execute_result"
    }
   ],
   "source": [
    "eval(str((1)))"
   ]
  },
  {
   "cell_type": "code",
   "execution_count": 12,
   "metadata": {},
   "outputs": [
    {
     "data": {
      "text/plain": [
       "array([24, 23, 22, 20, 19, 17, 15, 14, 13, 12, 11, 10,  9,  8,  7,  5,  4,\n",
       "        3,  2,  1])"
      ]
     },
     "execution_count": 12,
     "metadata": {},
     "output_type": "execute_result"
    }
   ],
   "source": [
    "game.values_sorted"
   ]
  },
  {
   "cell_type": "code",
   "execution_count": 22,
   "metadata": {},
   "outputs": [
    {
     "data": {
      "text/plain": [
       "2"
      ]
     },
     "execution_count": 22,
     "metadata": {},
     "output_type": "execute_result"
    }
   ],
   "source": [
    " int(game.reward_params['n']/100 * game.n_idx)"
   ]
  },
  {
   "cell_type": "code",
   "execution_count": 15,
   "metadata": {},
   "outputs": [
    {
     "data": {
      "text/plain": [
       "6"
      ]
     },
     "execution_count": 15,
     "metadata": {},
     "output_type": "execute_result"
    }
   ],
   "source": [
    "np.where(game.val == game.values_sorted)[0][0]"
   ]
  },
  {
   "cell_type": "code",
   "execution_count": 5,
   "metadata": {},
   "outputs": [
    {
     "data": {
      "text/plain": [
       "(10, 0)"
      ]
     },
     "execution_count": 5,
     "metadata": {},
     "output_type": "execute_result"
    }
   ],
   "source": [
    "rewardTopN(game)"
   ]
  },
  {
   "cell_type": "code",
   "execution_count": 6,
   "metadata": {},
   "outputs": [
    {
     "data": {
      "text/plain": [
       "3"
      ]
     },
     "execution_count": 6,
     "metadata": {},
     "output_type": "execute_result"
    }
   ],
   "source": [
    "rank = np.where(game.val == game.values_sorted)[0][0]\n",
    "rank"
   ]
  },
  {
   "cell_type": "code",
   "execution_count": 7,
   "metadata": {},
   "outputs": [
    {
     "data": {
      "text/plain": [
       "30"
      ]
     },
     "execution_count": 7,
     "metadata": {},
     "output_type": "execute_result"
    }
   ],
   "source": [
    "r_pct = int(rank/game.n_idx * 100)\n",
    "r_pct"
   ]
  },
  {
   "cell_type": "code",
   "execution_count": 8,
   "metadata": {},
   "outputs": [],
   "source": [
    "n_pct = int(game.reward_params['n']/100 * game.n_idx)"
   ]
  },
  {
   "cell_type": "code",
   "execution_count": 9,
   "metadata": {},
   "outputs": [
    {
     "data": {
      "text/plain": [
       "1"
      ]
     },
     "execution_count": 9,
     "metadata": {},
     "output_type": "execute_result"
    }
   ],
   "source": [
    "n_pct"
   ]
  },
  {
   "cell_type": "code",
   "execution_count": 5,
   "metadata": {},
   "outputs": [
    {
     "data": {
      "text/plain": [
       "1"
      ]
     },
     "execution_count": 5,
     "metadata": {},
     "output_type": "execute_result"
    }
   ],
   "source": [
    "game.val"
   ]
  },
  {
   "cell_type": "code",
   "execution_count": 34,
   "metadata": {},
   "outputs": [
    {
     "data": {
      "text/plain": [
       "1.0"
      ]
     },
     "execution_count": 34,
     "metadata": {},
     "output_type": "execute_result"
    }
   ],
   "source": []
  },
  {
   "cell_type": "code",
   "execution_count": 29,
   "metadata": {},
   "outputs": [
    {
     "data": {
      "text/plain": [
       "99.0"
      ]
     },
     "execution_count": 29,
     "metadata": {},
     "output_type": "execute_result"
    }
   ],
   "source": [
    "np.round(99/100, 3)*100"
   ]
  },
  {
   "cell_type": "code",
   "execution_count": 11,
   "metadata": {},
   "outputs": [],
   "source": [
    "agent = ldZipPkl(\"agent_values/q_b21_t101010.pkl\")"
   ]
  },
  {
   "cell_type": "code",
   "execution_count": 2,
   "metadata": {},
   "outputs": [
    {
     "name": "stdout",
     "output_type": "stream",
     "text": [
      "EVAL COMPLETE | FINAL VICTORY PERCENTAGE: 0.54\n"
     ]
    }
   ],
   "source": [
    "game_params = {'lo':1, \n",
    "               'hi':25,\n",
    "               'n_idx':10,\n",
    "               'replace':False,\n",
    "               'reward_fn': lambda g: rewardScalar(g, 10, -1)\n",
    "              }\n",
    "\n",
    "game = Game(**game_params)\n",
    "\n",
    "agent_params = {'alpha':0.0001,\n",
    "                'alpha_decay':1e-5,\n",
    "                'alpha_step':1000,\n",
    "                'gamma':0.95,\n",
    "                'eps':0.1, \n",
    "                'eps_decay':1e-5, \n",
    "                's_cost':0,\n",
    "                'sarsa':False,\n",
    "                'v_fn': vMax,\n",
    "                'q_key_fn':lambda p, i, v: qKeyMaxBin(p, i, v, 2, 2)\n",
    "               }\n",
    "\n",
    "agent = QAgent(**agent_params)\n",
    "\n",
    "trainer_params = {'game':game,\n",
    "                  'agent':agent,\n",
    "                  'n_games':10000,\n",
    "                  'n_print':1000,\n",
    "                   'delay':1\n",
    "                 }\n",
    "\n",
    "trainer = QTrainer()\n",
    "trainer.train(**trainer_params)\n",
    "trainer.eval(**trainer_params)"
   ]
  },
  {
   "cell_type": "code",
   "execution_count": 3,
   "metadata": {},
   "outputs": [
    {
     "name": "stdout",
     "output_type": "stream",
     "text": [
      "EVAL COMPLETE | FINAL VICTORY PERCENTAGE: 0.24\n"
     ]
    }
   ],
   "source": [
    "game_params = {'lo':1, \n",
    "               'hi':25,\n",
    "               'n_idx':10,\n",
    "               'replace':False,\n",
    "               'reward_fn': lambda g: rewardScalar(g, 10, -1)\n",
    "              }\n",
    "\n",
    "game = Game(**game_params)\n",
    "\n",
    "agent_params = {'gamma':0.95,\n",
    "                'eps':0.1, \n",
    "                'eps_decay':1e-5, \n",
    "                's_cost':0,\n",
    "                'v_fn': vMax,\n",
    "                'q_key_fn':lambda p, i, v: qKeyMaxBin(p, i, v, 2, 2)\n",
    "               }\n",
    "\n",
    "agent = MCMCAgent(**agent_params)\n",
    "\n",
    "trainer_params = {'game':game,\n",
    "                  'agent':agent,\n",
    "                  'n_episodes':100000\n",
    "                 }\n",
    "\n",
    "trainer_eval_params = {'game':game,\n",
    "                       'agent':agent,\n",
    "                       'n_games':10000,\n",
    "                       'n_print':1000,\n",
    "                       'delay':1\n",
    "                      }\n",
    "\n",
    "trainer = MCMCTrainer()\n",
    "trainer.train(**trainer_params)\n",
    "trainer.eval(**trainer_eval_params)"
   ]
  }
 ],
 "metadata": {
  "kernelspec": {
   "display_name": "Python 3",
   "language": "python",
   "name": "python3"
  },
  "language_info": {
   "codemirror_mode": {
    "name": "ipython",
    "version": 3
   },
   "file_extension": ".py",
   "mimetype": "text/x-python",
   "name": "python",
   "nbconvert_exporter": "python",
   "pygments_lexer": "ipython3",
   "version": "3.6.5"
  }
 },
 "nbformat": 4,
 "nbformat_minor": 2
}
