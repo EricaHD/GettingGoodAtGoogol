{
 "cells": [
  {
   "cell_type": "code",
   "execution_count": 1,
   "metadata": {},
   "outputs": [],
   "source": [
    "import random\n",
    "from collections import defaultdict\n",
    "\n",
    "import numpy as np\n",
    "\n",
    "from trainer import *\n",
    "from game import Game\n",
    "from agent import *\n",
    "from utils import *\n",
    "from plot_utils import setDefault, plotQValues\n",
    "\n",
    "import matplotlib.pyplot as plt\n",
    "%matplotlib inline\n",
    "\n",
    "setDefault(figsize=(20,10))"
   ]
  },
  {
   "cell_type": "code",
   "execution_count": 2,
   "metadata": {},
   "outputs": [],
   "source": [
    "game_params = {'lo':1, \n",
    "               'hi':25,\n",
    "               'n_idx':10,\n",
    "               'replace':False,\n",
    "               'reward_fn': lambda g: rewardScalar(g, 10, -1)\n",
    "              }\n",
    "\n",
    "game = Game(**game_params)"
   ]
  },
  {
   "cell_type": "code",
   "execution_count": 3,
   "metadata": {},
   "outputs": [
    {
     "data": {
      "text/plain": [
       "'[1, 75, 48, 15]'"
      ]
     },
     "execution_count": 3,
     "metadata": {},
     "output_type": "execute_result"
    }
   ],
   "source": [
    "vSeq({}, 15, str([1, 75, 48]))"
   ]
  },
  {
   "cell_type": "code",
   "execution_count": 8,
   "metadata": {},
   "outputs": [
    {
     "data": {
      "text/plain": [
       "'[1, 75, 48, 15]'"
      ]
     },
     "execution_count": 8,
     "metadata": {},
     "output_type": "execute_result"
    }
   ],
   "source": [
    "qKeySeq({'hi':100}, 3, vSeq({}, 15, str([1, 75, 48])), 2)"
   ]
  },
  {
   "cell_type": "code",
   "execution_count": 7,
   "metadata": {},
   "outputs": [
    {
     "data": {
      "text/plain": [
       "48"
      ]
     },
     "execution_count": 7,
     "metadata": {},
     "output_type": "execute_result"
    }
   ],
   "source": [
    "int(np.round(48/100, 2)*100)"
   ]
  },
  {
   "cell_type": "code",
   "execution_count": 11,
   "metadata": {},
   "outputs": [
    {
     "data": {
      "text/plain": [
       "(10, 1)"
      ]
     },
     "execution_count": 11,
     "metadata": {},
     "output_type": "execute_result"
    }
   ],
   "source": [
    "rewardTopN(game, 10, -10, int(.1*game.n_idx))"
   ]
  },
  {
   "cell_type": "code",
   "execution_count": 9,
   "metadata": {},
   "outputs": [
    {
     "data": {
      "text/plain": [
       "1"
      ]
     },
     "execution_count": 9,
     "metadata": {},
     "output_type": "execute_result"
    }
   ],
   "source": [
    "int(.1*game.n_idx)"
   ]
  },
  {
   "cell_type": "code",
   "execution_count": null,
   "metadata": {},
   "outputs": [],
   "source": []
  },
  {
   "cell_type": "code",
   "execution_count": 4,
   "metadata": {},
   "outputs": [
    {
     "data": {
      "text/plain": [
       "array([25, 24, 17, 16, 15,  9,  7,  5,  2,  1])"
      ]
     },
     "execution_count": 4,
     "metadata": {},
     "output_type": "execute_result"
    }
   ],
   "source": [
    "game.values_sorted"
   ]
  },
  {
   "cell_type": "code",
   "execution_count": 8,
   "metadata": {},
   "outputs": [
    {
     "data": {
      "text/plain": [
       "array([ 1,  4,  5,  6, 10, 13, 21, 22, 23, 25])"
      ]
     },
     "execution_count": 8,
     "metadata": {},
     "output_type": "execute_result"
    }
   ],
   "source": [
    "game.values_sorted"
   ]
  },
  {
   "cell_type": "code",
   "execution_count": null,
   "metadata": {},
   "outputs": [],
   "source": []
  },
  {
   "cell_type": "code",
   "execution_count": 2,
   "metadata": {},
   "outputs": [
    {
     "name": "stdout",
     "output_type": "stream",
     "text": [
      "EVAL COMPLETE | FINAL VICTORY PERCENTAGE: 0.54\n"
     ]
    }
   ],
   "source": [
    "game_params = {'lo':1, \n",
    "               'hi':25,\n",
    "               'n_idx':10,\n",
    "               'replace':False,\n",
    "               'reward_fn': lambda g: rewardScalar(g, 10, -1)\n",
    "              }\n",
    "\n",
    "game = Game(**game_params)\n",
    "\n",
    "agent_params = {'alpha':0.0001,\n",
    "                'alpha_decay':1e-5,\n",
    "                'alpha_step':1000,\n",
    "                'gamma':0.95,\n",
    "                'eps':0.1, \n",
    "                'eps_decay':1e-5, \n",
    "                's_cost':0,\n",
    "                'sarsa':False,\n",
    "                'v_fn': vMax,\n",
    "                'q_key_fn':lambda p, i, v: qKeyMaxBin(p, i, v, 2, 2)\n",
    "               }\n",
    "\n",
    "agent = QAgent(**agent_params)\n",
    "\n",
    "trainer_params = {'game':game,\n",
    "                  'agent':agent,\n",
    "                  'n_games':10000,\n",
    "                  'n_print':1000,\n",
    "                   'delay':1\n",
    "                 }\n",
    "\n",
    "trainer = QTrainer()\n",
    "trainer.train(**trainer_params)\n",
    "trainer.eval(**trainer_params)"
   ]
  },
  {
   "cell_type": "code",
   "execution_count": 3,
   "metadata": {},
   "outputs": [
    {
     "name": "stdout",
     "output_type": "stream",
     "text": [
      "EVAL COMPLETE | FINAL VICTORY PERCENTAGE: 0.24\n"
     ]
    }
   ],
   "source": [
    "game_params = {'lo':1, \n",
    "               'hi':25,\n",
    "               'n_idx':10,\n",
    "               'replace':False,\n",
    "               'reward_fn': lambda g: rewardScalar(g, 10, -1)\n",
    "              }\n",
    "\n",
    "game = Game(**game_params)\n",
    "\n",
    "agent_params = {'gamma':0.95,\n",
    "                'eps':0.1, \n",
    "                'eps_decay':1e-5, \n",
    "                's_cost':0,\n",
    "                'v_fn': vMax,\n",
    "                'q_key_fn':lambda p, i, v: qKeyMaxBin(p, i, v, 2, 2)\n",
    "               }\n",
    "\n",
    "agent = MCMCAgent(**agent_params)\n",
    "\n",
    "trainer_params = {'game':game,\n",
    "                  'agent':agent,\n",
    "                  'n_episodes':100000\n",
    "                 }\n",
    "\n",
    "trainer_eval_params = {'game':game,\n",
    "                       'agent':agent,\n",
    "                       'n_games':10000,\n",
    "                       'n_print':1000,\n",
    "                       'delay':1\n",
    "                      }\n",
    "\n",
    "trainer = MCMCTrainer()\n",
    "trainer.train(**trainer_params)\n",
    "trainer.eval(**trainer_eval_params)"
   ]
  }
 ],
 "metadata": {
  "kernelspec": {
   "display_name": "Python 3",
   "language": "python",
   "name": "python3"
  },
  "language_info": {
   "codemirror_mode": {
    "name": "ipython",
    "version": 3
   },
   "file_extension": ".py",
   "mimetype": "text/x-python",
   "name": "python",
   "nbconvert_exporter": "python",
   "pygments_lexer": "ipython3",
   "version": "3.6.5"
  }
 },
 "nbformat": 4,
 "nbformat_minor": 2
}
