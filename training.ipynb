{
 "cells": [
  {
   "cell_type": "code",
   "execution_count": 1,
   "metadata": {},
   "outputs": [],
   "source": [
    "import random\n",
    "from collections import defaultdict\n",
    "from itertools import product\n",
    "\n",
    "import numpy as np\n",
    "from scipy import optimize\n",
    "\n",
    "from trainer import *\n",
    "from game import Game\n",
    "from agent import *\n",
    "from utils import *"
   ]
  },
  {
   "cell_type": "code",
   "execution_count": 5,
   "metadata": {},
   "outputs": [],
   "source": [
    "game_params = {'lo':1, \n",
    "               'hi':100000,\n",
    "               'n_idx':50,\n",
    "               'replace':False,\n",
    "               'reward_fn': rewardScalar,\n",
    "               'reward':{'pos':1, 'neg':-1}\n",
    "               }\n",
    "\n",
    "agent_params = {\n",
    "                'n_idx':50,\n",
    "                'max_val':100000\n",
    "               }\n",
    "\n",
    "game = Game(**game_params)\n",
    "agent = OptimalAgent(**agent_params)"
   ]
  },
  {
   "cell_type": "code",
   "execution_count": 3,
   "metadata": {},
   "outputs": [],
   "source": [
    "trainer = Trainer()"
   ]
  },
  {
   "cell_type": "code",
   "execution_count": 6,
   "metadata": {},
   "outputs": [
    {
     "name": "stdout",
     "output_type": "stream",
     "text": [
      "EVAL COMPLETE |\t FINAL VICTORY PERCENTAGE: 0.37\n",
      "STOP CHOICES: [0, 1, 0, 0, 0, 0, 0, 0, 0, 0, 0, 0, 0, 0, 0, 0, 0, 0, 0, 474, 481, 402, 366, 328, 338, 275, 276, 261, 197, 199, 189, 175, 176, 160, 189, 150, 141, 150, 125, 116, 111, 111, 106, 107, 74, 90, 81, 94, 84, 3973]\n"
     ]
    }
   ],
   "source": [
    "trainer.eval(game, agent, 10000, 1000, 0)"
   ]
  }
 ],
 "metadata": {
  "kernelspec": {
   "display_name": "Python 3",
   "language": "python",
   "name": "python3"
  },
  "language_info": {
   "codemirror_mode": {
    "name": "ipython",
    "version": 3
   },
   "file_extension": ".py",
   "mimetype": "text/x-python",
   "name": "python",
   "nbconvert_exporter": "python",
   "pygments_lexer": "ipython3",
   "version": "3.6.5"
  }
 },
 "nbformat": 4,
 "nbformat_minor": 2
}
